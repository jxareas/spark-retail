{
 "cells": [
  {
   "metadata": {},
   "cell_type": "markdown",
   "source": [
    "# Procesamiento y Análisis de Datos con Apache Spark\n",
    "\n",
    "En este proyecto, se utiliza Apache Spark para resolver una serie de tareas de análisis de datos relacionadas con una empresa global del sector retail, que tiene tanto tiendas físicas como ventas online.\n",
    "\n",
    "El análisis se implementa utilizando [Apache Spark][Apache Spark], un motor de procesamiento de datos distribuido y de alto rendimiento, particularmente mediante [PySpark][PySpark], la API de Apache Spark para el entorno de Python.\n",
    "\n",
    "<div align=\"center\">\n",
    "<img src=\"../assets/logos/tools_apache_spark.svg\" height=\"225\" width=\"225\"/>\n",
    "</div>\n",
    "\n",
    "[Apache Spark]: https://spark.apache.org"
   ],
   "id": "898e1e15bf9a05a3"
  },
  {
   "metadata": {},
   "cell_type": "markdown",
   "source": "## Descripción de la tarea",
   "id": "f37e4e5cd61bf647"
  },
  {
   "metadata": {},
   "cell_type": "markdown",
   "source": [
    "Habéis sido contratados por una empresa perteneciente al sector del Retail.\n",
    "\n",
    "Es una empresa con presencia a nivel mundial con sede en España. Tiene tanto tiendas físicas, como venta on-line.\n",
    "\n",
    "Todos los días recibe un archivo llamado purchases.json con compras realizadas en todo el mundo.\n",
    "\n",
    "Cada línea del fichero es una compra de una unidad del producto correspondiente.\n",
    "\n",
    "<div align=\"center\">\n",
    "<img src=\"../assets/images/purchases.png\" height=\"600\" width=\"600\"/>\n",
    "</div>\n",
    "\n",
    "La plataforma logística envía todos los días un archivo stock.csv con el stock de cada producto:\n",
    "\n",
    "<div align=\"center\">\n",
    "<img src=\"../assets/images/stocks.png\" height=\"600\" width=\"600\"/>\n",
    "</div>\n",
    "\n",
    "**IMPORTANTE**\n",
    "\n",
    "Los datos se han generado de forma aleatoria."
   ],
   "id": "8715f88f54b8a2b8"
  },
  {
   "metadata": {},
   "cell_type": "markdown",
   "source": [
    "## Cargando Spark\n",
    "\n"
   ],
   "id": "1a1355faecdb1929"
  },
  {
   "metadata": {},
   "cell_type": "markdown",
   "source": "Primeramente, importamos las librerías necesarias para ejecutar nuestro código, principalmente aquellas relacionadas con la API de PySpark.",
   "id": "986a94d517cb903c"
  },
  {
   "metadata": {
    "ExecuteTime": {
     "end_time": "2025-04-27T09:06:26.711700Z",
     "start_time": "2025-04-27T09:06:26.659321Z"
    }
   },
   "cell_type": "code",
   "source": [
    "# Importing libraries\n",
    "\n",
    "from pyspark.sql import SparkSession"
   ],
   "id": "97c926500c44780d",
   "outputs": [],
   "execution_count": 1
  },
  {
   "metadata": {},
   "cell_type": "markdown",
   "source": [
    "Luego, inicializamos una sesión de Spark utilizando la API de PySpark. La función `SparkSession.builder` se usa para configurar y crear una nueva instancia de Spark.\n",
    "\n",
    "El parámetro `appName` establece el nombre de la aplicación, que será útil para identificar la sesión de Spark en el monitor de Spark. Finalmente, el método `getOrCreate` se asegura de que se obtenga una sesión existente si ya está en ejecución, o se cree una nueva si no existe.\n",
    "\n",
    "Esta sesión de Spark será el punto de entrada para trabajar con los datos y ejecutar las operaciones de análisis de datos."
   ],
   "id": "de41c7d2c3e0e2e"
  },
  {
   "metadata": {},
   "cell_type": "code",
   "source": [
    "spark = (\n",
    "    SparkSession.builder\n",
    "    .appName(\"RetailAnalytics\")\n",
    "    .getOrCreate()\n",
    ")"
   ],
   "id": "795ab26f8227e7f4",
   "outputs": [],
   "execution_count": null
  },
  {
   "metadata": {},
   "cell_type": "markdown",
   "source": [
    "## Solución de la tarea\n",
    "\n",
    "Debéis crear un programa Spark 2.x utilizando el lenguaje Python y resolver las siguientes tareas (usando tanto del DataFrame API como Spark SQL):"
   ],
   "id": "68aa96d447b00a03"
  },
  {
   "metadata": {},
   "cell_type": "markdown",
   "source": "### 1. Los 10 productos más comprados.",
   "id": "f6b3b91ce1770a32"
  },
  {
   "metadata": {},
   "cell_type": "markdown",
   "source": "### 2. Porcentaje de compra de cada tipo de producto (`item_type`).",
   "id": "9fd9ebbdf85035f6"
  },
  {
   "metadata": {},
   "cell_type": "markdown",
   "source": "### 3. Obtener los 3 productos más comprados por cada tipo de producto.",
   "id": "4c1ac58457acc8"
  },
  {
   "metadata": {},
   "cell_type": "markdown",
   "source": "### 4. Obtener los productos que son más caros que la media del precio de los productos.",
   "id": "8354d495e516709d"
  },
  {
   "metadata": {},
   "cell_type": "markdown",
   "source": "### 5. Indicar la tienda que ha vendido más productos.",
   "id": "e381acac2bf589fb"
  },
  {
   "metadata": {},
   "cell_type": "markdown",
   "source": "### 6. Indicar la tienda que ha facturado más dinero.",
   "id": "dab631f498019928"
  },
  {
   "metadata": {},
   "cell_type": "markdown",
   "source": "### 7. Dividir el mundo en 5 áreas geográficas iguales según la longitud (location.lon) y agregar una columna con el nombre del área geográfica (Area1: - 180 a - 108, Area2: - 108 a - 36, Area3: - 36 a 36, Area4: 36 a 108, Area5: 108 a 180), ...",
   "id": "e907912aa69217d6"
  },
  {
   "metadata": {},
   "cell_type": "markdown",
   "source": "#### 7.1. ¿En qué área se utiliza más PayPal?",
   "id": "b9bcfb6c367184d"
  },
  {
   "metadata": {},
   "cell_type": "markdown",
   "source": "#### 7.2. ¿Cuáles son los 3 productos más comprados en cada área?",
   "id": "7aa74a45c156c39d"
  },
  {
   "metadata": {},
   "cell_type": "markdown",
   "source": "#### 7.3. ¿Qué área ha facturado menos dinero?",
   "id": "73f35986ad256e0d"
  },
  {
   "metadata": {},
   "cell_type": "markdown",
   "source": "### 8. Indicar los productos que no tienen stock suficiente para las compras realizadas.",
   "id": "1ff3c4e2833b7ef"
  }
 ],
 "metadata": {
  "kernelspec": {
   "display_name": "Python 3",
   "language": "python",
   "name": "python3"
  },
  "language_info": {
   "codemirror_mode": {
    "name": "ipython",
    "version": 2
   },
   "file_extension": ".py",
   "mimetype": "text/x-python",
   "name": "python",
   "nbconvert_exporter": "python",
   "pygments_lexer": "ipython2",
   "version": "2.7.6"
  }
 },
 "nbformat": 4,
 "nbformat_minor": 5
}
